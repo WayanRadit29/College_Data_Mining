{
 "cells": [
  {
   "cell_type": "markdown",
   "metadata": {},
   "source": [
    "###### Refer to E-Book 1"
   ]
  },
  {
   "cell_type": "markdown",
   "metadata": {},
   "source": [
    "## Section 2.1"
   ]
  },
  {
   "cell_type": "markdown",
   "metadata": {},
   "source": [
    "### 2.1.1. Nominal attributes"
   ]
  },
  {
   "cell_type": "markdown",
   "metadata": {},
   "source": [
    "#### Nominal Attributes:\n",
    "\n",
    "Nominal attributes are categorical variables that represent distinct categories or labels with no inherent order or ranking among them. These attributes classify data into various groups based on qualitative differences. Examples include colors, gender, types of animals, and more."
   ]
  },
  {
   "cell_type": "markdown",
   "metadata": {},
   "source": [
    "#### Practical Python Code for Handling Nominal Attributes:\n",
    "\n",
    "Let's create a simple Python code snippet using the pandas library to work with a dataset containing nominal attributes. We'll load a sample dataset, explore nominal attributes, and perform one-hot encoding."
   ]
  },
  {
   "cell_type": "code",
   "execution_count": null,
   "metadata": {},
   "outputs": [
    {
     "name": "stdout",
     "output_type": "stream",
     "text": [
      "Original Dataset:\n",
      "  Animal  Color   Habitat\n",
      "0    Dog  Brown    Forest\n",
      "1    Cat  Black      Home\n",
      "2   Fish   Gold  Aquarium\n",
      "3   Bird   Blue       Sky\n",
      "4  Snake  Green    Jungle\n",
      "\n",
      "\n",
      "<class 'pandas.core.frame.DataFrame'>\n",
      "RangeIndex: 5 entries, 0 to 4\n",
      "Data columns (total 3 columns):\n",
      " #   Column   Non-Null Count  Dtype \n",
      "---  ------   --------------  ----- \n",
      " 0   Animal   5 non-null      object\n",
      " 1   Color    5 non-null      object\n",
      " 2   Habitat  5 non-null      object\n",
      "dtypes: object(3)\n",
      "memory usage: 252.0+ bytes\n",
      "None\n",
      "Animal : ['Dog' 'Cat' 'Fish' 'Bird' 'Snake']\n",
      "Color : ['Brown' 'Black' 'Gold' 'Blue' 'Green']\n",
      "Habitat : ['Forest' 'Home' 'Aquarium' 'Sky' 'Jungle']\n"
     ]
    }
   ],
   "source": [
    "import pandas as pd\n",
    "\n",
    "# Sample dataset with nominal attributes\n",
    "data = {\n",
    "    'Animal': ['Dog', 'Cat', 'Fish', 'Bird', 'Snake'],\n",
    "    'Color': ['Brown', 'Black', 'Gold', 'Blue', 'Green'],\n",
    "    'Habitat': ['Forest', 'Home', 'Aquarium', 'Sky', 'Jungle']\n",
    "}\n",
    "\n",
    "df = pd.DataFrame(data)\n",
    "\n",
    "# Display the original dataset\n",
    "print(\"Original Dataset:\")\n",
    "print(df)\n",
    "print(\"\\n\")\n",
    "\n",
    "\n",
    "# Explore the nominal attributes\n",
    "print(df.info())\n",
    "print(\"\\n\")\n",
    "\n",
    "# Display the unique values in each nominal attribute\n",
    "for attribute in df.columns:\n",
    "    unique_values = df[attribute].unique()\n",
    "    print(f\"{attribute} : {unique_values}\")\n",
    "    print(\"\\n\")\n",
    "# Perform one-hot encoding\n",
    "\n",
    "# Display the dataset after one-hot encoding\n",
    "\n"
   ]
  },
  {
   "cell_type": "markdown",
   "metadata": {},
   "source": [
    "In this example:\n",
    "\n",
    "    We create a pandas DataFrame with three nominal attributes: 'Animal', 'Color', and 'Habitat'.\n",
    "    We explore the unique values in each nominal attribute.\n",
    "    We use pd.get_dummies() to perform one-hot encoding, converting each nominal attribute into binary columns.\n",
    "    The resulting DataFrame (df_encoded) is displayed after one-hot encoding."
   ]
  },
  {
   "cell_type": "markdown",
   "metadata": {},
   "source": [
    "### 2.1.2. Binary attributes"
   ]
  },
  {
   "cell_type": "markdown",
   "metadata": {},
   "source": [
    "#### Binary Attributes:\n",
    "\n",
    "Binary attributes are categorical variables that can take on one of two possible values, typically representing the presence or absence of a certain characteristic. These attributes are fundamental in many datasets, and examples include Yes/No, True/False, 1/0, or any other two distinct categories."
   ]
  },
  {
   "cell_type": "markdown",
   "metadata": {},
   "source": [
    "#### Practical Python Code for Handling Binary Attributes:\n",
    "\n",
    "Let's create a Python code snippet using the pandas library to work with a dataset containing binary attributes. We'll load a sample dataset, explore binary attributes, and perform basic operations on them."
   ]
  },
  {
   "cell_type": "code",
   "execution_count": null,
   "metadata": {},
   "outputs": [
    {
     "data": {
      "text/html": [
       "<div>\n",
       "<style scoped>\n",
       "    .dataframe tbody tr th:only-of-type {\n",
       "        vertical-align: middle;\n",
       "    }\n",
       "\n",
       "    .dataframe tbody tr th {\n",
       "        vertical-align: top;\n",
       "    }\n",
       "\n",
       "    .dataframe thead th {\n",
       "        text-align: right;\n",
       "    }\n",
       "</style>\n",
       "<table border=\"1\" class=\"dataframe\">\n",
       "  <thead>\n",
       "    <tr style=\"text-align: right;\">\n",
       "      <th></th>\n",
       "      <th>StudentID</th>\n",
       "      <th>PassedExam</th>\n",
       "      <th>EnrolledInCourse</th>\n",
       "    </tr>\n",
       "  </thead>\n",
       "  <tbody>\n",
       "    <tr>\n",
       "      <th>0</th>\n",
       "      <td>1</td>\n",
       "      <td>1</td>\n",
       "      <td>1</td>\n",
       "    </tr>\n",
       "    <tr>\n",
       "      <th>1</th>\n",
       "      <td>2</td>\n",
       "      <td>0</td>\n",
       "      <td>1</td>\n",
       "    </tr>\n",
       "    <tr>\n",
       "      <th>2</th>\n",
       "      <td>3</td>\n",
       "      <td>1</td>\n",
       "      <td>0</td>\n",
       "    </tr>\n",
       "    <tr>\n",
       "      <th>3</th>\n",
       "      <td>4</td>\n",
       "      <td>1</td>\n",
       "      <td>1</td>\n",
       "    </tr>\n",
       "    <tr>\n",
       "      <th>4</th>\n",
       "      <td>5</td>\n",
       "      <td>0</td>\n",
       "      <td>0</td>\n",
       "    </tr>\n",
       "  </tbody>\n",
       "</table>\n",
       "</div>"
      ],
      "text/plain": [
       "   StudentID  PassedExam  EnrolledInCourse\n",
       "0          1           1                 1\n",
       "1          2           0                 1\n",
       "2          3           1                 0\n",
       "3          4           1                 1\n",
       "4          5           0                 0"
      ]
     },
     "metadata": {},
     "output_type": "display_data"
    },
    {
     "name": "stdout",
     "output_type": "stream",
     "text": [
      "<class 'pandas.core.frame.DataFrame'>\n",
      "RangeIndex: 5 entries, 0 to 4\n",
      "Data columns (total 3 columns):\n",
      " #   Column            Non-Null Count  Dtype\n",
      "---  ------            --------------  -----\n",
      " 0   StudentID         5 non-null      int64\n",
      " 1   PassedExam        5 non-null      int64\n",
      " 2   EnrolledInCourse  5 non-null      int64\n",
      "dtypes: int64(3)\n",
      "memory usage: 252.0 bytes\n",
      "None\n",
      "\n",
      "StudentID : [1 2 3 4 5]\n",
      "PassedExam : [1 0]\n",
      "EnrolledInCourse : [1 0]\n",
      "\n",
      "\n"
     ]
    },
    {
     "data": {
      "text/plain": [
       "0    2\n",
       "1    1\n",
       "2    1\n",
       "3    2\n",
       "4    0\n",
       "Name: Total, dtype: int64"
      ]
     },
     "metadata": {},
     "output_type": "display_data"
    }
   ],
   "source": [
    "import pandas as pd\n",
    "\n",
    "# Sample dataset with binary attributes\n",
    "data = {\n",
    "    'StudentID': [1, 2, 3, 4, 5],\n",
    "    'PassedExam': [1, 0, 1, 1, 0],\n",
    "    'EnrolledInCourse': [1, 1, 0, 1, 0]\n",
    "}\n",
    "\n",
    "df = pd.DataFrame(data)\n",
    "\n",
    "# Display the original dataset\n",
    "display(df)\n",
    "\n",
    "# Explore the binary attributes\n",
    "print(df.info())\n",
    "print()\n",
    "\n",
    "# Display the count of each unique value in binary attributes\n",
    "for attribute in df.columns:\n",
    "    unique_values = df[attribute].unique()\n",
    "    print(f\"{attribute} : {unique_values}\")\n",
    "print(\"\\n\")\n",
    "# Perform basic operations on binary attributes\n",
    "df[\"Total\"] = df[\"PassedExam\"] + df[\"EnrolledInCourse\"]\n",
    "print()\n",
    "\n",
    "# Display the dataset after the operation\n",
    "display(df[\"Total\"])\n",
    "\n"
   ]
  },
  {
   "cell_type": "markdown",
   "metadata": {},
   "source": [
    "In this example:\n",
    "\n",
    "    We create a pandas DataFrame with two binary attributes: 'PassedExam' and 'EnrolledInCourse'.\n",
    "    We explore the counts of each unique value in binary attributes using value_counts().\n",
    "    We perform a basic operation (addition) on binary attributes to create a new attribute, 'TotalAttributes'.\n",
    "    The resulting DataFrame (df) is displayed after these operations."
   ]
  },
  {
   "cell_type": "markdown",
   "metadata": {},
   "source": [
    "### 2.1.3. Ordinal attributes"
   ]
  },
  {
   "cell_type": "markdown",
   "metadata": {},
   "source": [
    "#### Ordinal Attributes:\n",
    "\n",
    "Ordinal attributes are categorical variables with a meaningful order or ranking among the categories. Unlike nominal attributes, ordinal attributes have a clear, meaningful sequence, but the intervals between them are not necessarily uniform or well-defined. Examples of ordinal attributes include education levels (e.g., elementary, high school, college), customer satisfaction ratings, or socioeconomic classes."
   ]
  },
  {
   "cell_type": "markdown",
   "metadata": {},
   "source": [
    "#### Practical Python Code for Handling Ordinal Attributes:\n",
    "\n",
    "Let's create a Python code snippet using the pandas library to work with a dataset containing ordinal attributes. We'll load a sample dataset, explore ordinal attributes, and demonstrate how to encode them to preserve the ordinal relationship."
   ]
  },
  {
   "cell_type": "code",
   "execution_count": null,
   "metadata": {},
   "outputs": [],
   "source": [
    "import pandas as pd\n",
    "\n",
    "# Sample dataset with ordinal attributes\n",
    "data = {\n",
    "    'StudentID': [1, 2, 3, 4, 5],\n",
    "    'EducationLevel': ['High School', 'College', 'Elementary', 'College', 'High School'],\n",
    "    'SatisfactionRating': [3, 5, 2, 4, 1]\n",
    "}\n",
    "\n",
    "df = pd.DataFrame(data)\n",
    "\n",
    "# Display the original dataset\n",
    "display(df)\n",
    "# Explore the ordinal attributes\n",
    "print(df.info())\n",
    "print()\n",
    "# Display the unique values in each ordinal attribute\n",
    "\n",
    "# Encode ordinal attributes with meaningful numerical values\n",
    "# ini nanti pakai mapping\n",
    "education = {\n",
    "\n",
    "}\n",
    "# Display the dataset after encoding ordinal attributes\n",
    "\n"
   ]
  },
  {
   "cell_type": "markdown",
   "metadata": {},
   "source": [
    "In this example:\n",
    "\n",
    "    We create a pandas DataFrame with two ordinal attributes: 'EducationLevel' and 'SatisfactionRating'.\n",
    "    We explore the unique values in each ordinal attribute.\n",
    "    We encode ordinal attributes with meaningful numerical values using the map() function to create a new attribute, 'EducationLevelEncoded'.\n",
    "    The resulting DataFrame (df) is displayed after these operations."
   ]
  },
  {
   "cell_type": "markdown",
   "metadata": {},
   "source": [
    "### 2.1.4. Numeric attributes"
   ]
  },
  {
   "cell_type": "markdown",
   "metadata": {},
   "source": [
    "#### Numeric Attributes:\n",
    "\n",
    "Numeric attributes represent quantities and can take on numerical values. There are two main types of numeric attributes: discrete and continuous. Discrete numeric attributes can only take on distinct, separate values (e.g., the number of bedrooms in a house), while continuous numeric attributes can take on any value within a range (e.g., height, weight)."
   ]
  },
  {
   "cell_type": "markdown",
   "metadata": {},
   "source": [
    "#### Practical Python Code for Handling Numeric Attributes:\n",
    "\n",
    "Let's create a Python code snippet using the pandas library to work with a dataset containing numeric attributes. We'll load a sample dataset, explore numeric attributes, and perform basic operations on them."
   ]
  },
  {
   "cell_type": "code",
   "execution_count": 36,
   "metadata": {},
   "outputs": [
    {
     "data": {
      "text/html": [
       "<div>\n",
       "<style scoped>\n",
       "    .dataframe tbody tr th:only-of-type {\n",
       "        vertical-align: middle;\n",
       "    }\n",
       "\n",
       "    .dataframe tbody tr th {\n",
       "        vertical-align: top;\n",
       "    }\n",
       "\n",
       "    .dataframe thead th {\n",
       "        text-align: right;\n",
       "    }\n",
       "</style>\n",
       "<table border=\"1\" class=\"dataframe\">\n",
       "  <thead>\n",
       "    <tr style=\"text-align: right;\">\n",
       "      <th></th>\n",
       "      <th>StudentID</th>\n",
       "      <th>Age</th>\n",
       "      <th>Height (cm)</th>\n",
       "      <th>Score</th>\n",
       "    </tr>\n",
       "  </thead>\n",
       "  <tbody>\n",
       "    <tr>\n",
       "      <th>count</th>\n",
       "      <td>5.000</td>\n",
       "      <td>5.000</td>\n",
       "      <td>5.000</td>\n",
       "      <td>5.000</td>\n",
       "    </tr>\n",
       "    <tr>\n",
       "      <th>mean</th>\n",
       "      <td>3.000</td>\n",
       "      <td>21.000</td>\n",
       "      <td>173.000</td>\n",
       "      <td>87.800</td>\n",
       "    </tr>\n",
       "    <tr>\n",
       "      <th>std</th>\n",
       "      <td>1.581</td>\n",
       "      <td>1.581</td>\n",
       "      <td>10.368</td>\n",
       "      <td>6.611</td>\n",
       "    </tr>\n",
       "    <tr>\n",
       "      <th>min</th>\n",
       "      <td>1.000</td>\n",
       "      <td>19.000</td>\n",
       "      <td>160.000</td>\n",
       "      <td>78.000</td>\n",
       "    </tr>\n",
       "    <tr>\n",
       "      <th>25%</th>\n",
       "      <td>2.000</td>\n",
       "      <td>20.000</td>\n",
       "      <td>165.000</td>\n",
       "      <td>85.000</td>\n",
       "    </tr>\n",
       "    <tr>\n",
       "      <th>50%</th>\n",
       "      <td>3.000</td>\n",
       "      <td>21.000</td>\n",
       "      <td>175.000</td>\n",
       "      <td>89.000</td>\n",
       "    </tr>\n",
       "    <tr>\n",
       "      <th>75%</th>\n",
       "      <td>4.000</td>\n",
       "      <td>22.000</td>\n",
       "      <td>180.000</td>\n",
       "      <td>92.000</td>\n",
       "    </tr>\n",
       "    <tr>\n",
       "      <th>max</th>\n",
       "      <td>5.000</td>\n",
       "      <td>23.000</td>\n",
       "      <td>185.000</td>\n",
       "      <td>95.000</td>\n",
       "    </tr>\n",
       "  </tbody>\n",
       "</table>\n",
       "</div>"
      ],
      "text/plain": [
       "       StudentID     Age  Height (cm)   Score\n",
       "count      5.000   5.000        5.000   5.000\n",
       "mean       3.000  21.000      173.000  87.800\n",
       "std        1.581   1.581       10.368   6.611\n",
       "min        1.000  19.000      160.000  78.000\n",
       "25%        2.000  20.000      165.000  85.000\n",
       "50%        3.000  21.000      175.000  89.000\n",
       "75%        4.000  22.000      180.000  92.000\n",
       "max        5.000  23.000      185.000  95.000"
      ]
     },
     "execution_count": 36,
     "metadata": {},
     "output_type": "execute_result"
    }
   ],
   "source": [
    "import pandas as pd\n",
    "\n",
    "# Sample dataset with numeric attributes\n",
    "data = {\n",
    "    'StudentID': [1, 2, 3, 4, 5],\n",
    "    'Age': [21, 19, 22, 20, 23],\n",
    "    'Height (cm)': [175, 160, 180, 165, 185],\n",
    "    'Score': [85, 92, 78, 89, 95]\n",
    "}\n",
    "\n",
    "df = pd.DataFrame(data)\n",
    "\n",
    "# Display the original dataset\n",
    "\n",
    "# Explore the numeric attributes\n",
    "\n",
    "# Display summary statistics for numeric attributes\n",
    "df.describe().round(3)\n",
    "# Perform basic operations on numeric attributes\n",
    "\n",
    "# Display the dataset after the operation\n",
    "\n"
   ]
  },
  {
   "cell_type": "markdown",
   "metadata": {},
   "source": [
    "In this example:\n",
    "\n",
    "    We create a pandas DataFrame with three numeric attributes: 'Age', 'Height (cm)', and 'Score'.\n",
    "    We explore summary statistics for numeric attributes using describe().\n",
    "    We perform a basic operation (normalization) on the 'Score' attribute to create a new attribute, 'NormalizedScore'.\n",
    "    The resulting DataFrame (df) is displayed after these operations."
   ]
  },
  {
   "cell_type": "markdown",
   "metadata": {},
   "source": [
    "### 2.1.5. Discrete vs. continuous attributes"
   ]
  },
  {
   "cell_type": "markdown",
   "metadata": {},
   "source": [
    "#### Discrete Attributes:\n",
    "\n",
    "Definition: Discrete attributes can only take on distinct, separate values.\n",
    "Examples: The number of bedrooms in a house, the count of items in a shopping cart, the number of students in a class.\n",
    "Nature: These attributes are often counted in whole numbers and have clear boundaries between values.\n",
    "\n",
    "#### Continuous Attributes:\n",
    "\n",
    "Definition: Continuous attributes can take on any value within a range.\n",
    "Examples: Height, weight, temperature, and any measurement that can have decimal values.\n",
    "Nature: These attributes have a continuous and infinite set of possible values, making them suitable for measurement."
   ]
  },
  {
   "cell_type": "markdown",
   "metadata": {},
   "source": [
    "#### Practical Python Code for Discrete vs. Continuous Attributes:\n",
    "\n",
    "Let's create a Python code snippet using the pandas library to work with a dataset containing both discrete and continuous attributes. We'll load a sample dataset, explore the nature of each type, and perform basic operations."
   ]
  },
  {
   "cell_type": "code",
   "execution_count": null,
   "metadata": {},
   "outputs": [
    {
     "name": "stdout",
     "output_type": "stream",
     "text": [
      "Original Dataset:\n",
      "   StudentID  NumCourses  GPA  Income\n",
      "0          1           4  3.5   25000\n",
      "1          2           5  4.0   30000\n",
      "2          3           3  3.2   20000\n",
      "3          4           6  3.8   35000\n",
      "4          5           4  3.9   32000\n",
      "\n",
      "\n",
      "<class 'pandas.core.frame.DataFrame'>\n",
      "RangeIndex: 5 entries, 0 to 4\n",
      "Data columns (total 4 columns):\n",
      " #   Column      Non-Null Count  Dtype  \n",
      "---  ------      --------------  -----  \n",
      " 0   StudentID   5 non-null      int64  \n",
      " 1   NumCourses  5 non-null      int64  \n",
      " 2   GPA         5 non-null      float64\n",
      " 3   Income      5 non-null      int64  \n",
      "dtypes: float64(1), int64(3)\n",
      "memory usage: 292.0 bytes\n"
     ]
    },
    {
     "data": {
      "text/plain": [
       "None"
      ]
     },
     "metadata": {},
     "output_type": "display_data"
    }
   ],
   "source": [
    "import pandas as pd\n",
    "\n",
    "# Sample dataset with discrete and continuous attributes\n",
    "data = {\n",
    "    'StudentID': [1, 2, 3, 4, 5],\n",
    "    'NumCourses': [4, 5, 3, 6, 4],  # Discrete attribute (number of courses)\n",
    "    'GPA': [3.5, 4.0, 3.2, 3.8, 3.9],  # Continuous attribute (GPA)\n",
    "    'Income': [25000, 30000, 20000, 35000, 32000]  # Continuous attribute (income in dollars)\n",
    "}\n",
    "\n",
    "df = pd.DataFrame(data)\n",
    "\n",
    "# Display the original dataset\n",
    "print(\"Original Dataset:\")\n",
    "print(df)\n",
    "print(\"\\n\")\n",
    "\n",
    "# Explore the nature of attributes\n",
    "display(df.info())\n",
    "# Perform basic operations on continuous attributes\n",
    "\n",
    "\n",
    "# Display the dataset after the operation\n",
    "\n"
   ]
  },
  {
   "cell_type": "markdown",
   "metadata": {},
   "source": [
    "In this example:\n",
    "\n",
    "    We create a pandas DataFrame with three attributes: 'NumCourses' (discrete), 'GPA' (continuous), and 'Income' (continuous).\n",
    "    We explore the nature of each attribute based on its data type.\n",
    "    We perform a basic operation (scaling) on a continuous attribute ('Income') to create a new attribute, 'ScaledIncome'.\n",
    "    The resulting DataFrame (df) is displayed after these operations."
   ]
  },
  {
   "cell_type": "markdown",
   "metadata": {},
   "source": [
    "## Section 2.2"
   ]
  },
  {
   "cell_type": "markdown",
   "metadata": {},
   "source": [
    "### 2.2.1. Measuring the central tendency"
   ]
  },
  {
   "cell_type": "markdown",
   "metadata": {},
   "source": [
    "Measuring central tendency is a way to summarize a set of data by identifying the central or average value. There are three common measures of central tendency: mean, median, and mode."
   ]
  },
  {
   "cell_type": "markdown",
   "metadata": {},
   "source": [
    "#### Mean (Average): \n",
    "It is calculated by summing up all the values in a dataset and dividing the sum by the number of values.\n",
    "\n",
    "#### Median: \n",
    "The median is the middle value of a dataset when it is sorted in ascending or descending order. If the dataset has an even number of values, the median is the average of the two middle values.\n",
    "\n",
    "#### Mode: \n",
    "The mode is the value that appears most frequently in a dataset."
   ]
  },
  {
   "cell_type": "markdown",
   "metadata": {},
   "source": [
    "#### Practical Python Code for Measuring the central tendency:"
   ]
  },
  {
   "cell_type": "code",
   "execution_count": 38,
   "metadata": {},
   "outputs": [
    {
     "name": "stdout",
     "output_type": "stream",
     "text": [
      "18\n"
     ]
    }
   ],
   "source": [
    "import numpy as np\n",
    "\n",
    "# Example dataset\n",
    "data = np.array([15, 18, 2, 36, 12, 25, 18, 40, 28, 22])\n",
    "\n",
    "# Mean\n",
    "\n",
    "# Median\n",
    "\n",
    "\n",
    "# Mode\n",
    "mode_value = np.argmax(np.bincount(data))\n",
    "print(mode_value)\n"
   ]
  },
  {
   "cell_type": "markdown",
   "metadata": {},
   "source": [
    "    Make sure to install NumPy if you haven't already by running pip install numpy in your Python environment.\n",
    "\n",
    "    This code uses NumPy functions to calculate the mean, median, and mode of the given dataset. You can replace the data array with your own dataset."
   ]
  },
  {
   "cell_type": "markdown",
   "metadata": {},
   "source": [
    "### 2.2.2. Measuring the dispersion of data"
   ]
  },
  {
   "cell_type": "markdown",
   "metadata": {},
   "source": [
    "Measuring the dispersion of data is important in understanding how spread out or clustered the values in a dataset are. There are several measures of dispersion, including range, variance, and standard deviation."
   ]
  },
  {
   "cell_type": "markdown",
   "metadata": {},
   "source": [
    "#### Range: \n",
    "The range is the difference between the maximum and minimum values in a dataset. It provides a simple measure of how spread out the values are.\n",
    "\n",
    "#### Variance: \n",
    "Variance measures the average squared difference of each value from the mean of the dataset. A higher variance indicates greater dispersion.\n",
    "\n",
    "#### Standard Deviation: \n",
    "The standard deviation is the square root of the variance. It provides a more interpretable measure of the spread of data, as it is in the same unit as the original data."
   ]
  },
  {
   "cell_type": "markdown",
   "metadata": {},
   "source": [
    "#### Practical Python Code for Measuring the dispersion of data:"
   ]
  },
  {
   "cell_type": "code",
   "execution_count": 39,
   "metadata": {},
   "outputs": [
    {
     "name": "stdout",
     "output_type": "stream",
     "text": [
      "10.697663296253065\n"
     ]
    }
   ],
   "source": [
    "import numpy as np\n",
    "\n",
    "# Example dataset\n",
    "data = np.array([15, 18, 2, 36, 12, 25, 18, 40, 28, 22])\n",
    "\n",
    "# Range\n",
    "\n",
    "# Variance\n",
    "\n",
    "# Standard Deviation\n",
    "data_std_dev = np.std(data)\n",
    "print(data_std_dev)"
   ]
  },
  {
   "cell_type": "markdown",
   "metadata": {},
   "source": [
    "    In this code, np.ptp calculates the range, np.var calculates the variance, and np.std calculates the standard deviation. Replace the data array with your own dataset."
   ]
  },
  {
   "cell_type": "markdown",
   "metadata": {},
   "source": [
    "### 2.2.3. Covariance and correlation analysis"
   ]
  },
  {
   "cell_type": "markdown",
   "metadata": {},
   "source": [
    "Covariance and correlation analysis are statistical measures that describe the degree to which two variables change together."
   ]
  },
  {
   "cell_type": "markdown",
   "metadata": {},
   "source": [
    "#### Covariance:\n",
    "\n",
    "Covariance measures the extent to which the values of two variables change in relation to each other.\n",
    "A positive covariance indicates that as one variable increases, the other variable tends to increase as well, and vice versa for negative covariance.\n",
    "However, the scale of covariance is not standardized, making it challenging to interpret the strength of the relationship.\n",
    "\n",
    "#### Correlation:\n",
    "\n",
    "Correlation is a standardized measure of the strength and direction of the linear relationship between two variables.\n",
    "The correlation coefficient ranges from -1 to 1.\n",
    "A correlation coefficient of 1 indicates a perfect positive correlation, -1 indicates a perfect negative correlation, and 0 indicates no linear correlation."
   ]
  },
  {
   "cell_type": "markdown",
   "metadata": {},
   "source": [
    "#### Practical Python Code for Covariance and correlation analysis:"
   ]
  },
  {
   "cell_type": "code",
   "execution_count": 41,
   "metadata": {},
   "outputs": [
    {
     "name": "stdout",
     "output_type": "stream",
     "text": [
      "[[12.5 15.  -7.5 15.  10.  12.5  7.5 12.5  7.5 10. ]\n",
      " [15.  18.  -9.  18.  12.  15.   9.  15.   9.  12. ]\n",
      " [-7.5 -9.   4.5 -9.  -6.  -7.5 -4.5 -7.5 -4.5 -6. ]\n",
      " [15.  18.  -9.  18.  12.  15.   9.  15.   9.  12. ]\n",
      " [10.  12.  -6.  12.   8.  10.   6.  10.   6.   8. ]\n",
      " [12.5 15.  -7.5 15.  10.  12.5  7.5 12.5  7.5 10. ]\n",
      " [ 7.5  9.  -4.5  9.   6.   7.5  4.5  7.5  4.5  6. ]\n",
      " [12.5 15.  -7.5 15.  10.  12.5  7.5 12.5  7.5 10. ]\n",
      " [ 7.5  9.  -4.5  9.   6.   7.5  4.5  7.5  4.5  6. ]\n",
      " [10.  12.  -6.  12.   8.  10.   6.  10.   6.   8. ]]\n"
     ]
    }
   ],
   "source": [
    "import numpy as np\n",
    "import pandas as pd\n",
    "\n",
    "# Example dataset\n",
    "data = {\n",
    "    'Variable1': [15, 18, 2, 36, 12, 25, 18, 40, 28, 22],\n",
    "    'Variable2': [10, 12, 5, 30, 8, 20, 15, 35, 25, 18]\n",
    "}\n",
    "\n",
    "df = pd.DataFrame(data)\n",
    "\n",
    "# Covariance matrix\n",
    "covariance_matrix = np.cov(df, rowvar = True)\n",
    "print(covariance_matrix)\n",
    "\n",
    "# Correlation matrix\n"
   ]
  },
  {
   "cell_type": "markdown",
   "metadata": {},
   "source": [
    "    This code calculates the covariance matrix using np.cov and the correlation matrix using the corr method of a Pandas DataFrame. Replace the Variable1 and Variable2 columns with your own variables."
   ]
  },
  {
   "cell_type": "markdown",
   "metadata": {},
   "source": [
    "### 2.2.4. Graphic displays of basic statistics of data"
   ]
  },
  {
   "cell_type": "markdown",
   "metadata": {},
   "source": [
    "Graphic displays of basic statistics are essential for visualizing the characteristics of a dataset. These displays can help in gaining insights into the distribution, central tendency, and dispersion of the data."
   ]
  },
  {
   "cell_type": "markdown",
   "metadata": {},
   "source": [
    "#### Histograms:\n",
    "\n",
    "Explanation: Histograms provide a visual representation of the distribution of a dataset by dividing it into bins and displaying the frequency or probability of values falling into each bin."
   ]
  },
  {
   "cell_type": "markdown",
   "metadata": {},
   "source": [
    "#### Box Plots:\n",
    "\n",
    "Explanation: Box plots (box-and-whisker plots) provide a graphical summary of the distribution of a dataset, including the median, quartiles, and potential outliers."
   ]
  },
  {
   "cell_type": "markdown",
   "metadata": {},
   "source": [
    "#### Scatter Plots:\n",
    "\n",
    "Explanation: Scatter plots display individual data points in a two-dimensional space, making it easy to identify patterns, relationships, and outliers between two variables."
   ]
  },
  {
   "cell_type": "markdown",
   "metadata": {},
   "source": [
    "#### Practical Python Code for Graphic displays of basic statistics of data:"
   ]
  },
  {
   "cell_type": "code",
   "execution_count": 42,
   "metadata": {},
   "outputs": [
    {
     "data": {
      "image/png": "[encoded data removed]",
      "text/plain": [
       "<Figure size 640x480 with 1 Axes>"
      ]
     },
     "metadata": {},
     "output_type": "display_data"
    }
   ],
   "source": [
    "# Histogram\n",
    "\n",
    "import matplotlib.pyplot as plt\n",
    "import numpy as np\n",
    "\n",
    "# Example dataset\n",
    "data = np.random.randn(1000)  # Replace with your own dataset\n",
    "\n",
    "# Create a histogram\n",
    "plt.hist(data)\n",
    "plt.title(\"Histogram Data\")\n",
    "plt.xlabel(\"value\")\n",
    "plt.ylabel(\"frequency\")\n",
    "plt.show()\n"
   ]
  },
  {
   "cell_type": "code",
   "execution_count": 10,
   "metadata": {},
   "outputs": [],
   "source": [
    "# Box Plot\n",
    "\n",
    "import matplotlib.pyplot as plt\n",
    "import numpy as np\n",
    "\n",
    "# Example dataset\n",
    "data = np.random.randn(1000)  # Replace with your own dataset\n",
    "\n",
    "# Create a box plot\n",
    "\n"
   ]
  },
  {
   "cell_type": "code",
   "execution_count": null,
   "metadata": {},
   "outputs": [],
   "source": [
    "# Scatter plot\n",
    "\n",
    "import matplotlib.pyplot as plt\n",
    "import numpy as np\n",
    "\n",
    "# Example datasets\n",
    "x = np.random.randn(100)\n",
    "y = 2 * x + np.random.randn(100)  # Replace with your own datasets\n",
    "\n",
    "# Create a scatter plot\n",
    "fig, ax = plt.subplots(1,3,fig_size = [8, 12])\n"
   ]
  },
  {
   "cell_type": "markdown",
   "metadata": {},
   "source": [
    "    Histograms, box plots, and scatter plots can enhance the understanding of data distributions, relationships, and outliers."
   ]
  },
  {
   "cell_type": "markdown",
   "metadata": {},
   "source": [
    "## Section 2.3"
   ]
  },
  {
   "cell_type": "markdown",
   "metadata": {},
   "source": [
    "### 2.3.1. Data matrix vs. dissimilarity matrix"
   ]
  },
  {
   "cell_type": "markdown",
   "metadata": {},
   "source": [
    "In data mining, understanding the concepts of data matrix and dissimilarity matrix is crucial."
   ]
  },
  {
   "cell_type": "markdown",
   "metadata": {},
   "source": [
    "#### Data Matrix:\n",
    "\n",
    "Explanation: A data matrix is a structured representation of a dataset, where rows correspond to individual observations or instances, and columns represent different attributes or features. Each cell in the matrix contains the value of a specific attribute for a particular instance."
   ]
  },
  {
   "cell_type": "markdown",
   "metadata": {},
   "source": [
    "#### Dissimilarity Matrix:\n",
    "\n",
    "Explanation: A dissimilarity matrix represents the dissimilarity or similarity between pairs of instances in a dataset. It quantifies how different or similar two instances are based on some measure of dissimilarity, such as distance or dissimilarity scores."
   ]
  },
  {
   "cell_type": "code",
   "execution_count": 12,
   "metadata": {},
   "outputs": [
    {
     "name": "stdout",
     "output_type": "stream",
     "text": [
      "Data Matrix:\n",
      "   ID  Feature1  Feature2\n",
      "0   1        10       0.5\n",
      "1   2        15       1.2\n",
      "2   3        20       0.8\n",
      "3   4        25       1.0\n"
     ]
    }
   ],
   "source": [
    "# Data Matrix\n",
    "\n",
    "import pandas as pd\n",
    "\n",
    "# Example data matrix\n",
    "data = {\n",
    "    'ID': [1, 2, 3, 4],\n",
    "    'Feature1': [10, 15, 20, 25],\n",
    "    'Feature2': [0.5, 1.2, 0.8, 1.0]\n",
    "}\n",
    "\n",
    "df = pd.DataFrame(data)\n",
    "print(\"Data Matrix:\")\n",
    "print(df)\n"
   ]
  },
  {
   "cell_type": "code",
   "execution_count": 46,
   "metadata": {},
   "outputs": [
    {
     "name": "stdout",
     "output_type": "stream",
     "text": [
      "[[ 0.          5.04876222 10.00449899 15.00833102]\n",
      " [ 5.04876222  0.          5.01597448 10.0019998 ]\n",
      " [10.00449899  5.01597448  0.          5.0039984 ]\n",
      " [15.00833102 10.0019998   5.0039984   0.        ]]\n"
     ]
    }
   ],
   "source": [
    "# Dissimilarity Matrix\n",
    "\n",
    "from scipy.spatial.distance import pdist, squareform\n",
    "import pandas as pd\n",
    "\n",
    "# Example data matrix\n",
    "data = {\n",
    "    'ID': [1, 2, 3, 4],\n",
    "    'Feature1': [10, 15, 20, 25],\n",
    "    'Feature2': [0.5, 1.2, 0.8, 1.0]\n",
    "}\n",
    "\n",
    "df = pd.DataFrame(data)\n",
    "\n",
    "# Calculate Euclidean distance matrix\n",
    "distance_matrix = squareform(pdist(df[['Feature1', 'Feature2', ]], 'euclidean'))\n",
    "print(distance_matrix)"
   ]
  },
  {
   "cell_type": "markdown",
   "metadata": {},
   "source": [
    "    In this example, the pdist function from SciPy calculates the pairwise Euclidean distances between instances based on selected features. The squareform function converts the condensed distance matrix to a square form.\n",
    "\n",
    "    Matrices provide a structured representation of raw data, while dissimilarity matrices capture the pairwise dissimilarities between instances, which is useful in various data mining applications like clustering, classification, and similarity search."
   ]
  },
  {
   "cell_type": "markdown",
   "metadata": {},
   "source": [
    "### 2.3.2. Proximity measures for nominal attributes"
   ]
  },
  {
   "cell_type": "markdown",
   "metadata": {},
   "source": [
    "Proximity measures for nominal attributes are used to quantify the similarity or dissimilarity between instances when dealing with categorical or nominal attributes. Unlike numerical attributes, nominal attributes don't have a natural ordering, making traditional distance metrics unsuitable. Proximity measures address this issue by focusing on the agreement or disagreement between categorical values."
   ]
  },
  {
   "cell_type": "markdown",
   "metadata": {},
   "source": [
    "#### Example Proximity Measure: Jaccard Similarity\n",
    "\n",
    "#### Explanation:\n",
    "\n",
    "Jaccard Similarity measures the similarity between two sets by dividing the size of their intersection by the size of their union. In the context of nominal attributes, each attribute value is treated as a set of binary values (1 if the attribute is present, 0 otherwise)."
   ]
  },
  {
   "cell_type": "code",
   "execution_count": null,
   "metadata": {},
   "outputs": [
    {
     "data": {
      "text/html": [
       "<div>\n",
       "<style scoped>\n",
       "    .dataframe tbody tr th:only-of-type {\n",
       "        vertical-align: middle;\n",
       "    }\n",
       "\n",
       "    .dataframe tbody tr th {\n",
       "        vertical-align: top;\n",
       "    }\n",
       "\n",
       "    .dataframe thead th {\n",
       "        text-align: right;\n",
       "    }\n",
       "</style>\n",
       "<table border=\"1\" class=\"dataframe\">\n",
       "  <thead>\n",
       "    <tr style=\"text-align: right;\">\n",
       "      <th></th>\n",
       "      <th>Instance1_Large</th>\n",
       "      <th>Instance1_Red</th>\n",
       "      <th>Instance1_Square</th>\n",
       "      <th>Instance2_Blue</th>\n",
       "      <th>Instance2_Circle</th>\n",
       "      <th>Instance2_Small</th>\n",
       "    </tr>\n",
       "  </thead>\n",
       "  <tbody>\n",
       "    <tr>\n",
       "      <th>0</th>\n",
       "      <td>False</td>\n",
       "      <td>True</td>\n",
       "      <td>False</td>\n",
       "      <td>True</td>\n",
       "      <td>False</td>\n",
       "      <td>False</td>\n",
       "    </tr>\n",
       "    <tr>\n",
       "      <th>1</th>\n",
       "      <td>False</td>\n",
       "      <td>False</td>\n",
       "      <td>True</td>\n",
       "      <td>False</td>\n",
       "      <td>True</td>\n",
       "      <td>False</td>\n",
       "    </tr>\n",
       "    <tr>\n",
       "      <th>2</th>\n",
       "      <td>True</td>\n",
       "      <td>False</td>\n",
       "      <td>False</td>\n",
       "      <td>False</td>\n",
       "      <td>False</td>\n",
       "      <td>True</td>\n",
       "    </tr>\n",
       "  </tbody>\n",
       "</table>\n",
       "</div>"
      ],
      "text/plain": [
       "   Instance1_Large  Instance1_Red  Instance1_Square  Instance2_Blue  \\\n",
       "0            False           True             False            True   \n",
       "1            False          False              True           False   \n",
       "2             True          False             False           False   \n",
       "\n",
       "   Instance2_Circle  Instance2_Small  \n",
       "0             False            False  \n",
       "1              True            False  \n",
       "2             False             True  "
      ]
     },
     "metadata": {},
     "output_type": "display_data"
    }
   ],
   "source": [
    "from sklearn.metrics import jaccard_score\n",
    "\n",
    "# Example dataset with nominal attributes\n",
    "data = {\n",
    "    'Instance1': ['Red', 'Square', 'Large'],\n",
    "    'Instance2': ['Blue', 'Circle', 'Small']\n",
    "}\n",
    "\n",
    "# Convert nominal attributes to binary values\n",
    "binary_data = pd.get_dummies(pd.DataFrame(data))\n",
    "display(binary_data)\n",
    "\n",
    "\n"
   ]
  },
  {
   "cell_type": "code",
   "execution_count": 48,
   "metadata": {},
   "outputs": [
    {
     "data": {
      "text/plain": [
       "1.0"
      ]
     },
     "execution_count": 48,
     "metadata": {},
     "output_type": "execute_result"
    }
   ],
   "source": [
    "# Calculate Jaccard Similarity\n",
    "jaccard_score(binary_data.iloc[0], binary_data.iloc[0])"
   ]
  },
  {
   "cell_type": "markdown",
   "metadata": {},
   "source": [
    "    In this example, the nominal attributes ('Red', 'Square', 'Large') and ('Blue', 'Circle', 'Small') are converted into binary vectors using one-hot encoding. The Jaccard Similarity is then calculated using the jaccard_score function from scikit-learn.\n",
    "\n",
    "    Proximity measures for nominal attributes are essential for clustering, classification, and other data mining tasks involving categorical data. The practical example illustrates the application of Jaccard Similarity to quantify the similarity between instances with nominal attributes."
   ]
  },
  {
   "cell_type": "markdown",
   "metadata": {},
   "source": [
    "### 2.3.3. Proximity measures for binary attributes"
   ]
  },
  {
   "cell_type": "markdown",
   "metadata": {},
   "source": [
    "Proximity measures for binary attributes are employed when dealing with datasets that consist of binary (0/1) attributes. These measures assess the similarity or dissimilarity between instances based on the presence or absence of specific binary features."
   ]
  },
  {
   "cell_type": "markdown",
   "metadata": {},
   "source": [
    "#### Example Proximity Measure: Hamming Distance\n",
    "\n",
    "#### Explanation:\n",
    "\n",
    "Hamming Distance measures the dissimilarity between two binary strings by counting the number of positions at which the corresponding bits are different."
   ]
  },
  {
   "cell_type": "code",
   "execution_count": 56,
   "metadata": {},
   "outputs": [
    {
     "name": "stdout",
     "output_type": "stream",
     "text": [
      "0.5\n"
     ]
    }
   ],
   "source": [
    "import numpy as np\n",
    "from scipy.spatial.distance import hamming\n",
    "\n",
    "# Example dataset with binary attributes\n",
    "data = {\n",
    "    'Instance1': [1, 0, 1, 0],\n",
    "    'Instance2': [0, 1, 1, 0]\n",
    "}\n",
    "\n",
    "# Convert binary attributes to NumPy arrays\n",
    "binary_data = np.array((data['Instance1'], data['Instance2']))\n",
    "hamming_distance = hamming(binary_data[0], binary_data[1])\n",
    "print(hamming_distance)\n",
    "# Calculate Hamming Distance\n",
    "\n"
   ]
  },
  {
   "cell_type": "markdown",
   "metadata": {},
   "source": [
    "    In this example, instances are represented by binary vectors [1, 0, 1, 0] and [0, 1, 1, 0]. The Hamming Distance between these vectors is computed using the hamming function from SciPy.\n",
    "\n",
    "    Proximity measures for binary attributes are crucial for tasks such as clustering, pattern recognition, and classification when dealing with datasets consisting of binary features. The Hamming Distance example demonstrates how to quantify dissimilarity between instances based on binary attributes."
   ]
  },
  {
   "cell_type": "markdown",
   "metadata": {},
   "source": [
    "### 2.3.4. Dissimilarity of numeric data: Minkowski distance"
   ]
  },
  {
   "cell_type": "markdown",
   "metadata": {},
   "source": [
    "The Minkowski distance is a dissimilarity measure used to assess the similarity or dissimilarity between two points in a multidimensional space. It is a generalization of other distance measures, including Euclidean distance and Manhattan distance, and is defined by the following formula:\n",
    "\n",
    "D(x,y)=(∑i=1n∣xi−yi∣p)1p\n",
    "\n",
    "where x and y are vectors representing the numeric data points, n is the number of dimensions, and p is a parameter that determines the order of the Minkowski distance. When p=1, the Minkowski distance is equivalent to the Manhattan distance, and when p=2, it is equivalent to the Euclidean distance."
   ]
  },
  {
   "cell_type": "code",
   "execution_count": 59,
   "metadata": {},
   "outputs": [
    {
     "name": "stdout",
     "output_type": "stream",
     "text": [
      "2.0\n",
      "4.0\n"
     ]
    }
   ],
   "source": [
    "from scipy.spatial.distance import minkowski\n",
    "\n",
    "# Example dataset with numeric attributes\n",
    "data1 = [2, 3, 5, 7]\n",
    "data2 = [1, 4, 6, 8]\n",
    "\n",
    "# Calculate Minkowski distance with p=2 (Euclidean distance)\n",
    "euc_dist = minkowski(data1, data2, p=2)\n",
    "print(euc_dist)\n",
    "\n",
    "# Calculate Minkowski distance with p=1 (Manhattan distance)\n",
    "man_dist = minkowski(data1, data2, p=1)\n",
    "print(man_dist)\n",
    "\n"
   ]
  },
  {
   "cell_type": "markdown",
   "metadata": {},
   "source": [
    "    In this example, the Minkowski distance is calculated between two numeric vectors [2, 3, 5, 7] and [1, 4, 6, 8] using both the Euclidean distance (p=2) and the Manhattan distance (p=1). The minkowski function from SciPy is used for the calculation.\n",
    "\n",
    "    The Minkowski distance is a flexible measure that adapts to different scenarios based on the chosen value of pp. It is applicable in various data mining tasks such as clustering, classification, and outlier detection, especially when dealing with datasets containing numeric attributes. The"
   ]
  },
  {
   "cell_type": "markdown",
   "metadata": {},
   "source": [
    "### 2.3.5. Proximity measures for ordinal attributes"
   ]
  },
  {
   "cell_type": "markdown",
   "metadata": {},
   "source": [
    "Proximity measures for ordinal attributes are used when dealing with datasets that contain attributes with an inherent order or ranking. Unlike nominal attributes, ordinal attributes have a meaningful order, but the intervals between values may not be uniform."
   ]
  },
  {
   "cell_type": "markdown",
   "metadata": {},
   "source": [
    "#### Example Proximity Measure: Spearman Rank Correlation Coefficient\n",
    "\n",
    "#### Explanation:\n",
    "\n",
    "The Spearman Rank Correlation Coefficient measures the strength and direction of the monotonic relationship between two ordinal variables. It is based on the ranks of the values rather than their actual values."
   ]
  },
  {
   "cell_type": "code",
   "execution_count": 60,
   "metadata": {},
   "outputs": [
    {
     "data": {
      "text/plain": [
       "SignificanceResult(statistic=np.float64(0.6000000000000001), pvalue=np.float64(0.3999999999999999))"
      ]
     },
     "execution_count": 60,
     "metadata": {},
     "output_type": "execute_result"
    }
   ],
   "source": [
    "import numpy as np\n",
    "from scipy.stats import spearmanr\n",
    "\n",
    "# Example dataset with ordinal attributes\n",
    "data = {\n",
    "    'Instance1': [2, 3, 1, 4],\n",
    "    'Instance2': [1, 4, 2, 3]\n",
    "}\n",
    "\n",
    "# Calculate Spearman Rank Correlation Coefficient\n",
    "spearmanr_corr = spearmanr(data[\"Instance1\"], data['Instance2'])\n",
    "spearmanr_corr\n"
   ]
  },
  {
   "cell_type": "markdown",
   "metadata": {},
   "source": [
    "    In this example, instances are represented by ordinal attributes [2, 3, 1, 4] and [1, 4, 2, 3]. The Spearman Rank Correlation Coefficient is calculated using the spearmanr function from SciPy.\n",
    "\n",
    "    Proximity measures for ordinal attributes are important when dealing with data that has a meaningful order but lacks a clear numerical scale. The Spearman Rank Correlation Coefficient is particularly useful for assessing the monotonic relationship between ordinal variables."
   ]
  },
  {
   "cell_type": "markdown",
   "metadata": {},
   "source": [
    "### 2.3.6. Dissimilarity for attributes of mixed types"
   ]
  },
  {
   "cell_type": "markdown",
   "metadata": {},
   "source": [
    "Handling dissimilarity for attributes of mixed types is a common challenge in data mining, as datasets often include a combination of numeric, categorical, and ordinal attributes. It's crucial to employ appropriate dissimilarity measures that can accommodate the diverse nature of these attribute types."
   ]
  },
  {
   "cell_type": "markdown",
   "metadata": {},
   "source": [
    "#### Example Dissimilarity Measure: Gower's Distance\n",
    "\n",
    "#### Explanation:\n",
    "\n",
    "Gower's Distance is a dissimilarity measure designed for datasets with mixed types of attributes. It calculates the dissimilarity between two instances by considering the attribute types and applying appropriate measures, such as Euclidean distance for numeric attributes, Jaccard similarity for binary attributes, and simple matching coefficient for nominal attributes."
   ]
  },
  {
   "cell_type": "code",
   "execution_count": 69,
   "metadata": {},
   "outputs": [
    {
     "data": {
      "text/plain": [
       "array([[-0.45920758,  1.        ,  1.        ,  0.        ,  0.        ,\n",
       "         2.        ],\n",
       "       [-1.31639507,  0.        ,  0.        ,  1.        ,  0.        ,\n",
       "         1.        ],\n",
       "       [ 0.3979799 ,  1.        ,  1.        ,  0.        ,  0.        ,\n",
       "         3.        ],\n",
       "       [ 1.37762274,  1.        ,  0.        ,  0.        ,  1.        ,\n",
       "         2.        ]])"
      ]
     },
     "execution_count": 69,
     "metadata": {},
     "output_type": "execute_result"
    }
   ],
   "source": [
    "import numpy as np\n",
    "from scipy.spatial.distance import pdist, squareform\n",
    "from sklearn.preprocessing import StandardScaler\n",
    "\n",
    "# Example dataset with mixed attribute types\n",
    "data = {\n",
    "    'Numeric': [2.5, 1.8, 3.2, 4.0],\n",
    "    'Binary': [1, 0, 1, 1],\n",
    "    'Nominal': ['A', 'B', 'A', 'C'],\n",
    "    'Ordinal': [2, 1, 3, 2]\n",
    "}\n",
    "\n",
    "# Standardize numeric attributes\n",
    "numeric_data = np.array([data['Numeric']]).T\n",
    "numeric_data = StandardScaler().fit_transform(numeric_data)\n",
    "\n",
    "# Convert binary attributes to binary values\n",
    "binary_data = pd.get_dummies(pd.DataFrame(data['Binary'], columns=['Binary']))\n",
    "binary_data\n",
    "\n",
    "# Convert nominal attributes to binary values\n",
    "nominal_data = pd.get_dummies(pd.DataFrame(data['Nominal'], columns=['Nominal']))\n",
    "nominal_data\n",
    "\n",
    "# Combine all attribute types\n",
    "mixed_data = np.concatenate((numeric_data, binary_data, nominal_data, np.array([data['Ordinal']]).T), axis=1)\n",
    "mixed_data\n",
    "\n",
    "# Calculate Gower's Distance\n",
    "\n"
   ]
  },
  {
   "cell_type": "markdown",
   "metadata": {},
   "source": [
    "    In this example, Gower's Distance is calculated for a dataset with numeric, binary, nominal, and ordinal attributes. Numeric attributes are standardized, binary and nominal attributes are converted to binary values, and all attribute types are combined into a single matrix. The pdist function from SciPy is then used to calculate pairwise Euclidean distances, and the squareform function converts the condensed distance matrix to a square form.\n",
    "\n",
    "    The Gower's Distance is a versatile measure for dissimilarity in datasets with mixed attribute types, providing a comprehensive solution for handling various data characteristics."
   ]
  },
  {
   "cell_type": "markdown",
   "metadata": {},
   "source": [
    "### 2.3.7. Cosine similarity"
   ]
  },
  {
   "cell_type": "markdown",
   "metadata": {},
   "source": [
    "Cosine similarity is a metric used to measure the similarity between two non-zero vectors of an inner product space. In the context of data mining, it is often employed to assess the similarity between documents in natural language processing or to compare feature vectors in recommendation systems. The cosine similarity ranges from -1 to 1, where 1 indicates perfect similarity, 0 indicates no similarity, and -1 indicates perfect dissimilarity."
   ]
  },
  {
   "cell_type": "code",
   "execution_count": null,
   "metadata": {},
   "outputs": [],
   "source": [
    "from sklearn.feature_extraction.text import CountVectorizer\n",
    "from sklearn.metrics.pairwise import cosine_similarity\n",
    "\n",
    "# Example dataset with text documents\n",
    "documents = [\n",
    "    \"Data mining is an exciting field of study.\",\n",
    "    \"Machine learning techniques are used for data analysis.\",\n",
    "    \"Python programming is widely used in data science applications.\"\n",
    "]\n",
    "\n",
    "# Convert documents to a bag-of-words representation\n",
    "vectorizer = CountVectorizer()\n",
    "word_matrix = vectorizer.fit_transform(documents)\n",
    "\n",
    "display()\n",
    "# Calculate cosine similarity\n",
    "\n"
   ]
  },
  {
   "cell_type": "markdown",
   "metadata": {},
   "source": [
    "    In this example, the CountVectorizer from scikit-learn is used to convert a collection of text documents into a matrix of token counts (bag-of-words representation). The cosine_similarity function then computes the cosine similarity between the document vectors.\n",
    "\n",
    "    Cosine similarity is particularly useful in scenarios where the magnitude of the vectors is not crucial, and the focus is on the direction of the vectors. It is widely applied in text analysis, document retrieval, and collaborative filtering systems. The provided example demonstrates how to calculate cosine similarity for a set of text documents."
   ]
  },
  {
   "cell_type": "markdown",
   "metadata": {},
   "source": [
    "### 2.3.8. Measuring similar distributions: the Kullback-Leibler divergence"
   ]
  },
  {
   "cell_type": "markdown",
   "metadata": {},
   "source": [
    "The Kullback-Leibler (KL) Divergence is a measure of how one probability distribution diverges from a second, expected probability distribution. In the context of data mining, it is often used to quantify the difference or similarity between two probability distributions. KL Divergence is not a true distance metric as it is not symmetric and does not satisfy the triangle inequality."
   ]
  },
  {
   "cell_type": "code",
   "execution_count": 70,
   "metadata": {},
   "outputs": [
    {
     "name": "stdout",
     "output_type": "stream",
     "text": [
      "0.18609809382700082\n"
     ]
    }
   ],
   "source": [
    "import numpy as np\n",
    "from scipy.stats import entropy\n",
    "\n",
    "# Example probability distributions\n",
    "distribution1 = np.array([0.2, 0.3, 0.5])\n",
    "distribution2 = np.array([0.1, 0.6, 0.3])\n",
    "\n",
    "# Calculate Kullback-Leibler Divergence\n",
    "kl_divergence = entropy(distribution1, distribution2)\n",
    "print(kl_divergence)\n"
   ]
  },
  {
   "cell_type": "markdown",
   "metadata": {},
   "source": [
    "    In this example, two probability distributions are represented by arrays distribution1 and distribution2. The entropy function from SciPy calculates the KL Divergence between these distributions.\n",
    "\n",
    "    KL Divergence is often used in information theory and statistics to measure the difference between two probability distributions. It finds applications in various areas, including natural language processing, machine learning, and pattern recognition."
   ]
  },
  {
   "cell_type": "markdown",
   "metadata": {},
   "source": [
    "### 2.3.9. Capturing hidden semantics in similarity measures"
   ]
  },
  {
   "cell_type": "markdown",
   "metadata": {},
   "source": [
    "Capturing hidden semantics in similarity measures involves finding meaningful patterns, relationships, or similarities in data that may not be apparent at first glance. This process often requires more advanced techniques that go beyond simple distance or similarity metrics. Methods like word embeddings, semantic similarity, or advanced neural network models are employed to capture and leverage hidden semantics in the data."
   ]
  },
  {
   "cell_type": "code",
   "execution_count": 73,
   "metadata": {},
   "outputs": [
    {
     "ename": "ValueError",
     "evalue": "numpy.dtype size changed, may indicate binary incompatibility. Expected 96 from C header, got 88 from PyObject",
     "output_type": "error",
     "traceback": [
      "\u001b[31m---------------------------------------------------------------------------\u001b[39m",
      "\u001b[31mValueError\u001b[39m                                Traceback (most recent call last)",
      "\u001b[36mCell\u001b[39m\u001b[36m \u001b[39m\u001b[32mIn[73]\u001b[39m\u001b[32m, line 1\u001b[39m\n\u001b[32m----> \u001b[39m\u001b[32m1\u001b[39m \u001b[38;5;28;01mfrom\u001b[39;00m\u001b[38;5;250m \u001b[39m\u001b[34;01mgensim\u001b[39;00m\u001b[34;01m.\u001b[39;00m\u001b[34;01mmodels\u001b[39;00m\u001b[38;5;250m \u001b[39m\u001b[38;5;28;01mimport\u001b[39;00m Word2Vec\n\u001b[32m      2\u001b[39m \u001b[38;5;28;01mfrom\u001b[39;00m\u001b[38;5;250m \u001b[39m\u001b[34;01msklearn\u001b[39;00m\u001b[34;01m.\u001b[39;00m\u001b[34;01mmetrics\u001b[39;00m\u001b[34;01m.\u001b[39;00m\u001b[34;01mpairwise\u001b[39;00m\u001b[38;5;250m \u001b[39m\u001b[38;5;28;01mimport\u001b[39;00m cosine_similarity\n\u001b[32m      4\u001b[39m \u001b[38;5;66;03m# Example dataset with text documents\u001b[39;00m\n",
      "\u001b[36mFile \u001b[39m\u001b[32md:\\AI_Journey\\Data_Mining\\datmin\\Lib\\site-packages\\gensim\\__init__.py:11\u001b[39m\n\u001b[32m      7\u001b[39m __version__ = \u001b[33m'\u001b[39m\u001b[33m4.3.3\u001b[39m\u001b[33m'\u001b[39m\n\u001b[32m      9\u001b[39m \u001b[38;5;28;01mimport\u001b[39;00m\u001b[38;5;250m \u001b[39m\u001b[34;01mlogging\u001b[39;00m\n\u001b[32m---> \u001b[39m\u001b[32m11\u001b[39m \u001b[38;5;28;01mfrom\u001b[39;00m\u001b[38;5;250m \u001b[39m\u001b[34;01mgensim\u001b[39;00m\u001b[38;5;250m \u001b[39m\u001b[38;5;28;01mimport\u001b[39;00m parsing, corpora, matutils, interfaces, models, similarities, utils  \u001b[38;5;66;03m# noqa:F401\u001b[39;00m\n\u001b[32m     14\u001b[39m logger = logging.getLogger(\u001b[33m'\u001b[39m\u001b[33mgensim\u001b[39m\u001b[33m'\u001b[39m)\n\u001b[32m     15\u001b[39m \u001b[38;5;28;01mif\u001b[39;00m \u001b[38;5;129;01mnot\u001b[39;00m logger.handlers:  \u001b[38;5;66;03m# To ensure reload() doesn't add another one\u001b[39;00m\n",
      "\u001b[36mFile \u001b[39m\u001b[32md:\\AI_Journey\\Data_Mining\\datmin\\Lib\\site-packages\\gensim\\corpora\\__init__.py:6\u001b[39m\n\u001b[32m      1\u001b[39m \u001b[33;03m\"\"\"\u001b[39;00m\n\u001b[32m      2\u001b[39m \u001b[33;03mThis package contains implementations of various streaming corpus I/O format.\u001b[39;00m\n\u001b[32m      3\u001b[39m \u001b[33;03m\"\"\"\u001b[39;00m\n\u001b[32m      5\u001b[39m \u001b[38;5;66;03m# bring corpus classes directly into package namespace, to save some typing\u001b[39;00m\n\u001b[32m----> \u001b[39m\u001b[32m6\u001b[39m \u001b[38;5;28;01mfrom\u001b[39;00m\u001b[38;5;250m \u001b[39m\u001b[34;01m.\u001b[39;00m\u001b[34;01mindexedcorpus\u001b[39;00m\u001b[38;5;250m \u001b[39m\u001b[38;5;28;01mimport\u001b[39;00m IndexedCorpus  \u001b[38;5;66;03m# noqa:F401 must appear before the other classes\u001b[39;00m\n\u001b[32m      8\u001b[39m \u001b[38;5;28;01mfrom\u001b[39;00m\u001b[38;5;250m \u001b[39m\u001b[34;01m.\u001b[39;00m\u001b[34;01mmmcorpus\u001b[39;00m\u001b[38;5;250m \u001b[39m\u001b[38;5;28;01mimport\u001b[39;00m MmCorpus  \u001b[38;5;66;03m# noqa:F401\u001b[39;00m\n\u001b[32m      9\u001b[39m \u001b[38;5;28;01mfrom\u001b[39;00m\u001b[38;5;250m \u001b[39m\u001b[34;01m.\u001b[39;00m\u001b[34;01mbleicorpus\u001b[39;00m\u001b[38;5;250m \u001b[39m\u001b[38;5;28;01mimport\u001b[39;00m BleiCorpus  \u001b[38;5;66;03m# noqa:F401\u001b[39;00m\n",
      "\u001b[36mFile \u001b[39m\u001b[32md:\\AI_Journey\\Data_Mining\\datmin\\Lib\\site-packages\\gensim\\corpora\\indexedcorpus.py:14\u001b[39m\n\u001b[32m     10\u001b[39m \u001b[38;5;28;01mimport\u001b[39;00m\u001b[38;5;250m \u001b[39m\u001b[34;01mlogging\u001b[39;00m\n\u001b[32m     12\u001b[39m \u001b[38;5;28;01mimport\u001b[39;00m\u001b[38;5;250m \u001b[39m\u001b[34;01mnumpy\u001b[39;00m\n\u001b[32m---> \u001b[39m\u001b[32m14\u001b[39m \u001b[38;5;28;01mfrom\u001b[39;00m\u001b[38;5;250m \u001b[39m\u001b[34;01mgensim\u001b[39;00m\u001b[38;5;250m \u001b[39m\u001b[38;5;28;01mimport\u001b[39;00m interfaces, utils\n\u001b[32m     16\u001b[39m logger = logging.getLogger(\u001b[34m__name__\u001b[39m)\n\u001b[32m     19\u001b[39m \u001b[38;5;28;01mclass\u001b[39;00m\u001b[38;5;250m \u001b[39m\u001b[34;01mIndexedCorpus\u001b[39;00m(interfaces.CorpusABC):\n",
      "\u001b[36mFile \u001b[39m\u001b[32md:\\AI_Journey\\Data_Mining\\datmin\\Lib\\site-packages\\gensim\\interfaces.py:19\u001b[39m\n\u001b[32m      7\u001b[39m \u001b[33;03m\"\"\"Basic interfaces used across the whole Gensim package.\u001b[39;00m\n\u001b[32m      8\u001b[39m \n\u001b[32m      9\u001b[39m \u001b[33;03mThese interfaces are used for building corpora, model transformation and similarity queries.\u001b[39;00m\n\u001b[32m   (...)\u001b[39m\u001b[32m     14\u001b[39m \n\u001b[32m     15\u001b[39m \u001b[33;03m\"\"\"\u001b[39;00m\n\u001b[32m     17\u001b[39m \u001b[38;5;28;01mimport\u001b[39;00m\u001b[38;5;250m \u001b[39m\u001b[34;01mlogging\u001b[39;00m\n\u001b[32m---> \u001b[39m\u001b[32m19\u001b[39m \u001b[38;5;28;01mfrom\u001b[39;00m\u001b[38;5;250m \u001b[39m\u001b[34;01mgensim\u001b[39;00m\u001b[38;5;250m \u001b[39m\u001b[38;5;28;01mimport\u001b[39;00m utils, matutils\n\u001b[32m     22\u001b[39m logger = logging.getLogger(\u001b[34m__name__\u001b[39m)\n\u001b[32m     25\u001b[39m \u001b[38;5;28;01mclass\u001b[39;00m\u001b[38;5;250m \u001b[39m\u001b[34;01mCorpusABC\u001b[39;00m(utils.SaveLoad):\n",
      "\u001b[36mFile \u001b[39m\u001b[32md:\\AI_Journey\\Data_Mining\\datmin\\Lib\\site-packages\\gensim\\matutils.py:1034\u001b[39m\n\u001b[32m   1029\u001b[39m     \u001b[38;5;28;01mreturn\u001b[39;00m \u001b[32m1.\u001b[39m - \u001b[38;5;28mfloat\u001b[39m(\u001b[38;5;28mlen\u001b[39m(set1 & set2)) / \u001b[38;5;28mfloat\u001b[39m(union_cardinality)\n\u001b[32m   1032\u001b[39m \u001b[38;5;28;01mtry\u001b[39;00m:\n\u001b[32m   1033\u001b[39m     \u001b[38;5;66;03m# try to load fast, cythonized code if possible\u001b[39;00m\n\u001b[32m-> \u001b[39m\u001b[32m1034\u001b[39m     \u001b[38;5;28;01mfrom\u001b[39;00m\u001b[38;5;250m \u001b[39m\u001b[34;01mgensim\u001b[39;00m\u001b[34;01m.\u001b[39;00m\u001b[34;01m_matutils\u001b[39;00m\u001b[38;5;250m \u001b[39m\u001b[38;5;28;01mimport\u001b[39;00m logsumexp, mean_absolute_difference, dirichlet_expectation\n\u001b[32m   1036\u001b[39m \u001b[38;5;28;01mexcept\u001b[39;00m \u001b[38;5;167;01mImportError\u001b[39;00m:\n\u001b[32m   1037\u001b[39m     \u001b[38;5;28;01mdef\u001b[39;00m\u001b[38;5;250m \u001b[39m\u001b[34mlogsumexp\u001b[39m(x):\n",
      "\u001b[36mFile \u001b[39m\u001b[32md:\\AI_Journey\\Data_Mining\\datmin\\Lib\\site-packages\\gensim\\_matutils.pyx:1\u001b[39m, in \u001b[36minit gensim._matutils\u001b[39m\u001b[34m()\u001b[39m\n",
      "\u001b[31mValueError\u001b[39m: numpy.dtype size changed, may indicate binary incompatibility. Expected 96 from C header, got 88 from PyObject"
     ]
    }
   ],
   "source": [
    "from gensim.models import Word2Vec\n",
    "from sklearn.metrics.pairwise import cosine_similarity\n",
    "\n",
    "# Example dataset with text documents\n",
    "documents = [\n",
    "    \"Data mining is an exciting field of study.\",\n",
    "    \"Machine learning techniques are used for data analysis.\",\n",
    "    \"Python programming is widely used in data science applications.\"\n",
    "]\n",
    "\n",
    "# Tokenize the documents into words\n",
    "tokenized_documents = [doc.split() for doc in documents]\n",
    "\n",
    "\n",
    "# Train a Word2Vec model on the tokenized documents\n",
    "model = Word2Vec(tokenized_documents, vector_size=10, window=3, min_count=1, workers=4)\n",
    "\n",
    "\n",
    "\n",
    "\n",
    "# Calculate cosine similarity using word embeddings\n",
    "embedding_similarity = cosine_similarity([model.wv['data'], [model.wv['mining']]])\n",
    "print(embedding_similarity)\n"
   ]
  },
  {
   "cell_type": "markdown",
   "metadata": {},
   "source": [
    "    In this example, the Gensim library is used to train a Word2Vec model on a small dataset of text documents. Word embeddings capture semantic relationships between words, and cosine similarity is then used to measure the similarity between the word vectors of two words ('data' and 'mining').\n",
    "\n",
    "    Capturing hidden semantics often involves leveraging advanced techniques such as word embeddings, neural networks, or deep learning models. These methods are particularly useful in applications like natural language processing, recommendation systems, and image analysis where capturing the underlying meaning or semantics is crucial."
   ]
  }
 ],
 "metadata": {
  "kernelspec": {
   "display_name": "datmin (3.12.4)",
   "language": "python",
   "name": "python3"
  },
  "language_info": {
   "codemirror_mode": {
    "name": "ipython",
    "version": 3
   },
   "file_extension": ".py",
   "mimetype": "text/x-python",
   "name": "python",
   "nbconvert_exporter": "python",
   "pygments_lexer": "ipython3",
   "version": "3.12.4"
  }
 },
 "nbformat": 4,
 "nbformat_minor": 2
}
