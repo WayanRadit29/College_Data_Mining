{
 "cells": [
  {
   "cell_type": "markdown",
   "id": "d7fc59fc",
   "metadata": {},
   "source": [
    "# 🧠 Kaggle Competition Base Template\n",
    "\n",
    "This notebook is designed for fast iteration and clarity.  \n",
    "Please follow the structure below strictly.\n",
    "\n",
    "**Structure**\n",
    "1. EDA\n",
    "2. Preprocessing\n",
    "3. Feature Engineering\n",
    "4. Modeling\n",
    "5. Evaluation\n",
    "6. Submission\n",
    "7. Experiment Log\n",
    "\n",
    "⚠️ DO NOT modify the \"Import & Read Data\" cell in actual competition (to avoid violation).\n"
   ]
  },
  {
   "cell_type": "code",
   "execution_count": 1,
   "id": "2ab5a5a6",
   "metadata": {},
   "outputs": [],
   "source": [
    "# 📦 Imports\n",
    "import numpy as np\n",
    "import pandas as pd\n",
    "import matplotlib.pyplot as plt\n",
    "import seaborn as sns\n",
    "\n",
    "from sklearn.model_selection import train_test_split\n",
    "from sklearn.preprocessing import OneHotEncoder, StandardScaler, MinMaxScaler\n",
    "from sklearn.compose import ColumnTransformer\n",
    "from sklearn.pipeline import Pipeline\n",
    "from sklearn.impute import SimpleImputer\n",
    "from sklearn.linear_model import LinearRegression\n",
    "from sklearn.metrics import mean_squared_error, mean_absolute_error, r2_score\n"
   ]
  }
 ],
 "metadata": {
  "kernelspec": {
   "display_name": "datmin (3.12.4)",
   "language": "python",
   "name": "python3"
  },
  "language_info": {
   "codemirror_mode": {
    "name": "ipython",
    "version": 3
   },
   "file_extension": ".py",
   "mimetype": "text/x-python",
   "name": "python",
   "nbconvert_exporter": "python",
   "pygments_lexer": "ipython3",
   "version": "3.12.4"
  }
 },
 "nbformat": 4,
 "nbformat_minor": 5
}
